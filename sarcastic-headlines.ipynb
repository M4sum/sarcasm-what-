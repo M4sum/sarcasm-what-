{
  "nbformat": 4,
  "nbformat_minor": 0,
  "metadata": {
    "kernelspec": {
      "display_name": "Python 3",
      "language": "python",
      "name": "python3"
    },
    "language_info": {
      "codemirror_mode": {
        "name": "ipython",
        "version": 3
      },
      "file_extension": ".py",
      "mimetype": "text/x-python",
      "name": "python",
      "nbconvert_exporter": "python",
      "pygments_lexer": "ipython3",
      "version": "3.7.1"
    },
    "colab": {
      "name": "nlp.ipynb",
      "version": "0.3.2",
      "provenance": [],
      "include_colab_link": true
    }
  },
  "cells": [
    {
      "cell_type": "markdown",
      "metadata": {
        "id": "view-in-github",
        "colab_type": "text"
      },
      "source": [
        "<a href=\"https://colab.research.google.com/github/M4sum/sarcasm-what-/blob/master/sarcastic-headlines.ipynb\" target=\"_parent\"><img src=\"https://colab.research.google.com/assets/colab-badge.svg\" alt=\"Open In Colab\"/></a>"
      ]
    },
    {
      "cell_type": "code",
      "metadata": {
        "id": "6xeDFIqxANlI",
        "colab_type": "code",
        "colab": {},
        "outputId": "6de0baa1-d969-457f-da0a-120df425d141"
      },
      "source": [
        "import numpy as np\n",
        "import pandas as pd\n",
        "import nltk\n",
        "import spacy\n",
        "import seaborn as sns\n",
        "from sklearn.neural_network import MLPClassifier\n",
        "from nltk.corpus import stopwords\n",
        "from nltk.tokenize import sent_tokenize, word_tokenize\n",
        "import matplotlib.pyplot as plt\n",
        "import re\n",
        "import os\n",
        "import pickle\n",
        "print(os.listdir(\"Sarcasm_Headlines_Dataset\"))"
      ],
      "execution_count": 0,
      "outputs": [
        {
          "output_type": "stream",
          "text": [
            "['Sarcasm_Headlines_Dataset.json']\n"
          ],
          "name": "stdout"
        }
      ]
    },
    {
      "cell_type": "code",
      "metadata": {
        "id": "_VrifMGvANlX",
        "colab_type": "code",
        "colab": {},
        "outputId": "d1b87c8a-baea-47f5-e86a-b6873bf19d9c"
      },
      "source": [
        "news_data_unsorted = pd.read_json(r'D://dontDelete//myWork/nlp//Sarcasm_Headlines_Dataset/Sarcasm_Headlines_Dataset.json',lines = True)\n",
        "print(len(news_data_unsorted))\n",
        "news_data = news_data_unsorted.sort_values(['is_sarcastic'], ascending = True)\n",
        "news_data = news_data.reset_index(drop=True)"
      ],
      "execution_count": 0,
      "outputs": [
        {
          "output_type": "stream",
          "text": [
            "26709\n"
          ],
          "name": "stdout"
        }
      ]
    },
    {
      "cell_type": "code",
      "metadata": {
        "scrolled": true,
        "id": "IG0XVmGvANli",
        "colab_type": "code",
        "colab": {},
        "outputId": "b787e3d8-c79e-4e03-a15a-7b0003bcc015"
      },
      "source": [
        "# Filtering word list\n",
        "spacy.load('en_core_web_sm')\n",
        "quotes = spacy.lang.punctuation.LIST_QUOTES\n",
        "punct = spacy.lang.punctuation.LIST_PUNCT\n",
        "stop_words = stopwords.words(\"english\")\n",
        "num=['0','1','2','3','4','5','6','7','8','9','&','-','',\"'\",\"--\"]\n",
        "trunc_elements = num + stop_words + punct + quotes\n",
        "trunc = num + punct + quotes\n",
        "all_words = []\n",
        "al_words =[]\n",
        "def get_words(sentence):\n",
        "    words = []\n",
        "    sentence =re.split(',| ', sentence)\n",
        "    words.append(sentence)\n",
        "    return list(words)\n",
        "\n",
        "for sentence in news_data['headline']:\n",
        "    words = get_words(sentence)\n",
        "    for i in words:\n",
        "        for j in i:\n",
        "            if j not in trunc:\n",
        "                al_words.append(j.lower())\n",
        "            if j not in trunc_elements:\n",
        "                all_words.append(j.lower())\n",
        "print(\"Truncated Elements: \",len(trunc_elements))\n",
        "print(\"Remaining Words: \",len(all_words))\n",
        "print(len(al_words))\n",
        "word_freq = nltk.FreqDist(all_words)\n",
        "unique_words = []\n",
        "for word in all_words:\n",
        "    if word not in unique_words:\n",
        "        unique_words.append(word)\n",
        "print('unique_words: ',len(unique_words))\n",
        "print('friends: ',word_freq['friends'])"
      ],
      "execution_count": 0,
      "outputs": [
        {
          "output_type": "error",
          "ename": "NameError",
          "evalue": "name 'news_data' is not defined",
          "traceback": [
            "\u001b[1;31m---------------------------------------------------------------------------\u001b[0m",
            "\u001b[1;31mNameError\u001b[0m                                 Traceback (most recent call last)",
            "\u001b[1;32m<ipython-input-2-37dca467bc24>\u001b[0m in \u001b[0;36m<module>\u001b[1;34m\u001b[0m\n\u001b[0;32m     15\u001b[0m     \u001b[1;32mreturn\u001b[0m \u001b[0mlist\u001b[0m\u001b[1;33m(\u001b[0m\u001b[0mwords\u001b[0m\u001b[1;33m)\u001b[0m\u001b[1;33m\u001b[0m\u001b[1;33m\u001b[0m\u001b[0m\n\u001b[0;32m     16\u001b[0m \u001b[1;33m\u001b[0m\u001b[0m\n\u001b[1;32m---> 17\u001b[1;33m \u001b[1;32mfor\u001b[0m \u001b[0msentence\u001b[0m \u001b[1;32min\u001b[0m \u001b[0mnews_data\u001b[0m\u001b[1;33m[\u001b[0m\u001b[1;34m'headline'\u001b[0m\u001b[1;33m]\u001b[0m\u001b[1;33m:\u001b[0m\u001b[1;33m\u001b[0m\u001b[1;33m\u001b[0m\u001b[0m\n\u001b[0m\u001b[0;32m     18\u001b[0m     \u001b[0mwords\u001b[0m \u001b[1;33m=\u001b[0m \u001b[0mget_words\u001b[0m\u001b[1;33m(\u001b[0m\u001b[0msentence\u001b[0m\u001b[1;33m)\u001b[0m\u001b[1;33m\u001b[0m\u001b[1;33m\u001b[0m\u001b[0m\n\u001b[0;32m     19\u001b[0m     \u001b[1;32mfor\u001b[0m \u001b[0mi\u001b[0m \u001b[1;32min\u001b[0m \u001b[0mwords\u001b[0m\u001b[1;33m:\u001b[0m\u001b[1;33m\u001b[0m\u001b[1;33m\u001b[0m\u001b[0m\n",
            "\u001b[1;31mNameError\u001b[0m: name 'news_data' is not defined"
          ]
        }
      ]
    },
    {
      "cell_type": "code",
      "metadata": {
        "id": "2J4PxfwLANlp",
        "colab_type": "code",
        "colab": {},
        "outputId": "a2f90b76-c45c-4f20-f49e-0bb50b6b013d"
      },
      "source": [
        "#news_data = news_data.drop(\"article_link\",1)\n",
        "for i in range(len(news_data)):\n",
        "    if news_data['is_sarcastic'][i] == 1:\n",
        "        print('NO.of 0: ',i)\n",
        "        break\n",
        "print(news_data['is_sarcastic'][15000])\n",
        "sns.countplot(news_data['is_sarcastic'])"
      ],
      "execution_count": 0,
      "outputs": [
        {
          "output_type": "stream",
          "text": [
            "NO.of 0:  14985\n",
            "1\n"
          ],
          "name": "stdout"
        },
        {
          "output_type": "execute_result",
          "data": {
            "text/plain": [
              "<matplotlib.axes._subplots.AxesSubplot at 0x1c3688d3908>"
            ]
          },
          "metadata": {
            "tags": []
          },
          "execution_count": 23
        },
        {
          "output_type": "display_data",
          "data": {
            "image/png": "[encoded data removed]",
            "text/plain": [
              "<Figure size 432x288 with 1 Axes>"
            ]
          },
          "metadata": {
            "tags": [],
            "needs_background": "light"
          }
        }
      ]
    },
    {
      "cell_type": "code",
      "metadata": {
        "id": "-zciPpLDANly",
        "colab_type": "code",
        "colab": {},
        "outputId": "f8b30af9-a385-417d-b518-50b0dc53ad21"
      },
      "source": [
        "#Generate bigrams and trigrams\n",
        "def generate_ngrams(text, n):\n",
        "    ngrams = zip(*[text[i:] for i in range(n)])\n",
        "    return [\" \".join(ngram) for ngram in ngrams]\n",
        "bigrams = generate_ngrams(list(all_words), 2)\n",
        "trigrams = generate_ngrams(list(all_words), 3)\n",
        "print(\"Total bigrams: \",len(bigrams))\n",
        "print(\"Total trigrams: \",len(trigrams))"
      ],
      "execution_count": 0,
      "outputs": [
        {
          "output_type": "stream",
          "text": [
            "Total bigrams:  189508\n",
            "Total trigrams:  189507\n"
          ],
          "name": "stdout"
        }
      ]
    },
    {
      "cell_type": "code",
      "metadata": {
        "id": "dc-bLeNeANl6",
        "colab_type": "code",
        "colab": {},
        "outputId": "5b998ba0-5cc0-4351-c33a-de3b35d9208f"
      },
      "source": [
        "#calculating frequecy of bigrams ***This takes very long to process***\n",
        "from collections import defaultdict\n",
        "bigram_freq = defaultdict(int)\n",
        "bigram_freq_f = open(\"bigram_freq.pickle\",\"rb\")\n",
        "bigram_freq = pickle.load(bigram_freq_f)\n",
        "bigram_freq_f.close()\n",
        "'''for bigram in bigrams:\n",
        "    for sent in news_data['headline']:\n",
        "        if bigram in sent:\n",
        "            bigram_freq[bigram]+=1'''\n",
        "print(len(bigram_freq))\n",
        "\n",
        "#save_bigram_freq = open(\"bigram_freq.pickle\",\"wb\")\n",
        "#pickle.dump(bigram_freq, save_bigram_freq)\n",
        "#save_bigram_freq.close()"
      ],
      "execution_count": 0,
      "outputs": [
        {
          "output_type": "stream",
          "text": [
            "90057\n"
          ],
          "name": "stdout"
        }
      ]
    },
    {
      "cell_type": "code",
      "metadata": {
        "id": "ZbzAN_a3ANmA",
        "colab_type": "code",
        "colab": {},
        "outputId": "06a9a63b-10c0-4d96-9539-3d375fe27ee6"
      },
      "source": [
        "#calculating frequecy of trigrams ***This takes very long to process***\n",
        "from collections import defaultdict\n",
        "trigram_freq = defaultdict(int)\n",
        "trigram_freq_f = open(\"trigram_freq.pickle\",\"rb\")\n",
        "trigram_freq = pickle.load(trigram_freq_f)\n",
        "trigram_freq_f.close()\n",
        "'''for trigram in trigrams:\n",
        "    for sent in news_data['headline']:\n",
        "        if trigram in sent:\n",
        "            trigram_freq[trigram]+=1'''\n",
        "print(len(trigram_freq))\n",
        "\n",
        "#save_trigram_freq = open(\"trigram_freq.pickle\",\"wb\")\n",
        "#pickle.dump(trigram_freq, save_trigram_freq)\n",
        "#save_trigram_freq.close()"
      ],
      "execution_count": 0,
      "outputs": [
        {
          "output_type": "stream",
          "text": [
            "55689\n"
          ],
          "name": "stdout"
        }
      ]
    },
    {
      "cell_type": "code",
      "metadata": {
        "id": "QuJ__zkiANmG",
        "colab_type": "code",
        "colab": {},
        "outputId": "90fbf525-a5fc-4424-f65e-0208ab819a7d"
      },
      "source": [
        "#Plot bigram frequencies\n",
        "sorted_bigram_freq = sorted(bigram_freq.items(), key=lambda v: v[1], reverse = True)\n",
        "phrases = []\n",
        "freq = []\n",
        "for x in range(len(sorted_bigram_freq)):\n",
        "    phrases.append(sorted_bigram_freq[x][0])\n",
        "    freq.append(sorted_bigram_freq[x][1])\n",
        "phrases = phrases[:20]\n",
        "freq = freq[:20]\n",
        "y_pos = np.arange(len(phrases))\n",
        "import matplotlib.pyplot as plt\n",
        "plt.figure(figsize=(20,10))\n",
        "plt.barh(y_pos, freq, align='center', alpha=0.5)\n",
        "plt.yticks(y_pos, phrases)\n",
        "plt.xlabel('frequency')\n",
        "plt.title('frequency of bigrams')\n",
        "plt.show()"
      ],
      "execution_count": 0,
      "outputs": [
        {
          "output_type": "stream",
          "text": [
            "Total Unique Bigrams:  90057\n"
          ],
          "name": "stdout"
        },
        {
          "output_type": "display_data",
          "data": {
            "image/png": "[encoded data removed]",
            "text/plain": [
              "<Figure size 1440x720 with 1 Axes>"
            ]
          },
          "metadata": {
            "tags": [],
            "needs_background": "light"
          }
        }
      ]
    },
    {
      "cell_type": "code",
      "metadata": {
        "id": "G_VbGV6NANmN",
        "colab_type": "code",
        "colab": {},
        "outputId": "75b1f69d-cfab-431a-a8e4-6f610a677d89"
      },
      "source": [
        "#Plot trigram frequencies\n",
        "sorted_trigram_freq = sorted(trigram_freq.items(), key=lambda v: v[1], reverse = True)\n",
        "phrases = []\n",
        "freq = []\n",
        "for x in range(len(sorted_trigram_freq)):\n",
        "    phrases.append(sorted_trigram_freq[x][0])\n",
        "    freq.append(sorted_trigram_freq[x][1])\n",
        "phrases = phrases[:20]\n",
        "freq = freq[:20]\n",
        "y_pos = np.arange(len(phrases))\n",
        "import matplotlib.pyplot as plt\n",
        "plt.figure(figsize=(20,10))\n",
        "plt.barh(y_pos, freq, align='center', alpha=0.5)\n",
        "plt.yticks(y_pos, phrases)\n",
        "plt.xlabel('frequency')\n",
        "plt.title('frequency of trigrams')\n",
        "plt.show()"
      ],
      "execution_count": 0,
      "outputs": [
        {
          "output_type": "display_data",
          "data": {
            "image/png": "[encoded data removed]",
            "text/plain": [
              "<Figure size 1440x720 with 1 Axes>"
            ]
          },
          "metadata": {
            "tags": [],
            "needs_background": "light"
          }
        }
      ]
    },
    {
      "cell_type": "code",
      "metadata": {
        "id": "29dbciEcANmU",
        "colab_type": "code",
        "colab": {}
      },
      "source": [
        "phrase = 'study:'\n",
        "for sent in news_data['headline']:\n",
        "    if phrase in sent:\n",
        "        print(sent)\n"
      ],
      "execution_count": 0,
      "outputs": []
    },
    {
      "cell_type": "code",
      "metadata": {
        "id": "v9SRIxj1ANmd",
        "colab_type": "code",
        "colab": {}
      },
      "source": [
        "def find_features(headline, feature_set):\n",
        "    features ={}\n",
        "    for w in feature_set:\n",
        "        features[w] = (w in headline)\n",
        "    return features"
      ],
      "execution_count": 0,
      "outputs": []
    },
    {
      "cell_type": "code",
      "metadata": {
        "id": "HgnosZrnANml",
        "colab_type": "code",
        "colab": {}
      },
      "source": [
        "#words as features for nltk naiveBayes\n",
        "word_features = dict(sorted(list(word_freq.items()), key = lambda v: v[1], reverse = True)[:5000]).keys()\n",
        "#bigrams as features\n",
        "#bigram_features = dict(sorted(list(bigram_freq.items()), key = lambda v: v[1], reverse = True)[:500]).keys()\n",
        "#trigrams as features\n",
        "#trigram_features = dict(sorted(list(trigram_freq.items()), key = lambda v: v[1], reverse = True)[:500]).keys()\n",
        "\n",
        "\n",
        "feature_sets = [(find_features(news_data_unsorted['headline'][x], word_features),news_data_unsorted['is_sarcastic'][x]) for x in range(0,news_data_unsorted['headline'].size)]\n",
        "#print(find_features(news_data['headline']))\n",
        "\n",
        "training_set = feature_sets[6000:]\n",
        "testing_set = feature_sets[:6000]\n",
        "\n"
      ],
      "execution_count": 0,
      "outputs": []
    },
    {
      "cell_type": "code",
      "metadata": {
        "id": "VzYH4CZqANmq",
        "colab_type": "code",
        "colab": {},
        "outputId": "1220c1d6-5e74-44bf-e062-1ea766b04079"
      },
      "source": [
        "from  nltk.classify.scikitlearn import SklearnClassifier\n",
        "from sklearn.naive_bayes import MultinomialNB, GaussianNB, BernoulliNB\n",
        "from sklearn.linear_model import LogisticRegression, SGDClassifier\n",
        "from sklearn.svm import SVC, LinearSVC, NuSVC\n",
        "#SGDClassifier\n",
        "SGDClassifier = SklearnClassifier(SGDClassifier(loss = 'modified_huber', max_iter = 1000, tol = None))\n",
        "SGDClassifier.train(training_set)\n",
        "print('SGDClassifier accuracy: ', (nltk.classify.accuracy(SGDClassifier, testing_set))*100)"
      ],
      "execution_count": 0,
      "outputs": [
        {
          "output_type": "stream",
          "text": [
            "C:\\Users\\Patel\\Anaconda3\\lib\\site-packages\\sklearn\\linear_model\\stochastic_gradient.py:183: FutureWarning: max_iter and tol parameters have been added in SGDClassifier in 0.19. If max_iter is set but tol is left unset, the default value for tol in 0.19 and 0.20 will be None (which is equivalent to -infinity, so it has no effect) but will change in 0.21 to 1e-3. Specify tol to silence this warning.\n",
            "  FutureWarning)\n"
          ],
          "name": "stderr"
        },
        {
          "output_type": "stream",
          "text": [
            "SGDClassifier accuracy:  79.21666666666667\n"
          ],
          "name": "stdout"
        }
      ]
    },
    {
      "cell_type": "code",
      "metadata": {
        "id": "Xn2Qx7N0ANmv",
        "colab_type": "code",
        "colab": {},
        "outputId": "9c2aaab8-1d1f-4ba4-b6e9-7c98d153b9c9"
      },
      "source": [
        "#NaiveBayes\n",
        "NaiveBayesClassifier = nltk.NaiveBayesClassifier.train(training_set)\n",
        "#NaiveBayesClassifier_f = open(\"naivebayes.pickle\",\"rb\")\n",
        "#NaiveBayesClassifier = pickle.load(NaiveBayesClassifier_f)\n",
        "#NaiveBayesClassifier_f.close()\n",
        "print('Naive Bayes Accuacy: ', (nltk.classify.accuracy(NaiveBayesClassifier, testing_set))*100)\n",
        "NaiveBayesClassifier.show_most_informative_features(30)\n",
        "#save_naivebayes = open(\"naivebayes.pickle\",\"wb\")\n",
        "#pickle.dump(NaiveBayesClassifier, save_naivebayes)\n",
        "#save_naivebayes.close()\n",
        "\n",
        "#MultinomialNB\n",
        "MultinomialNB = SklearnClassifier(MultinomialNB())\n",
        "MultinomialNB.train(training_set)\n",
        "print('MultinomialNB accuracy: ', (nltk.classify.accuracy(MultinomialNB, testing_set))*100)\n",
        "\n",
        "#BernoulliNB\n",
        "BernoulliNB = SklearnClassifier(BernoulliNB())\n",
        "BernoulliNB.train(training_set)\n",
        "print('BernoulliNB accuracy: ', (nltk.classify.accuracy(BernoulliNB, testing_set))*100)\n",
        "\n",
        "#LogisticRegression\n",
        "LogisticRegression = SklearnClassifier(LogisticRegression())\n",
        "LogisticRegression.train(training_set)\n",
        "print('LogisticRegression accuracy: ', (nltk.classify.accuracy(LogisticRegression, testing_set))*100)\n",
        "\n",
        "\n",
        "\n",
        "#LinearSVC\n",
        "LinearSVC = SklearnClassifier(LinearSVC())\n",
        "LinearSVC.train(training_set)\n",
        "print('LinearSVC accuracy: ', (nltk.classify.accuracy(LinearSVC, testing_set))*100)\n",
        "\n",
        "#NuSVC\n",
        "NuSVC = SklearnClassifier(NuSVC())\n",
        "NuSVC.train(training_set)\n",
        "print('NuSVC accuracy: ', (nltk.classify.accuracy(NuSVC, testing_set))*100)"
      ],
      "execution_count": 0,
      "outputs": [
        {
          "output_type": "stream",
          "text": [
            "Naive Bayes Accuacy:  79.45\n",
            "Most Informative Features\n",
            "                coworker = True                1 : 0      =     56.7 : 1.0\n",
            "               recommend = True                1 : 0      =     35.4 : 1.0\n",
            "                    area = True                1 : 0      =     32.9 : 1.0\n",
            "               apartment = True                1 : 0      =     32.8 : 1.0\n",
            "                  hoping = True                1 : 0      =     31.1 : 1.0\n",
            "                  study: = True                1 : 0      =     30.9 : 1.0\n",
            "               wondering = True                1 : 0      =     24.3 : 1.0\n",
            "                    2015 = True                0 : 1      =     24.2 : 1.0\n",
            "                    desk = True                1 : 0      =     22.6 : 1.0\n",
            "                 assures = True                1 : 0      =     20.9 : 1.0\n",
            "                previous = True                1 : 0      =     20.0 : 1.0\n",
            "              introduces = True                1 : 0      =     19.9 : 1.0\n",
            "                    shit = True                1 : 0      =     19.4 : 1.0\n",
            "                  here's = True                0 : 1      =     19.3 : 1.0\n",
            "                 excited = True                1 : 0      =     19.2 : 1.0\n",
            "                nation's = True                1 : 0      =     18.8 : 1.0\n",
            "                  allows = True                1 : 0      =     17.5 : 1.0\n",
            "                 colbert = True                0 : 1      =     17.5 : 1.0\n",
            "                 report: = True                1 : 0      =     17.2 : 1.0\n",
            "                  slowly = True                1 : 0      =     16.6 : 1.0\n",
            "                whatever = True                1 : 0      =     16.6 : 1.0\n",
            "                   slams = True                0 : 1      =     16.4 : 1.0\n",
            "               introduce = True                1 : 0      =     15.9 : 1.0\n",
            "              frustrated = True                1 : 0      =     14.9 : 1.0\n",
            "                 lessons = True                0 : 1      =     14.2 : 1.0\n",
            "             transgender = True                0 : 1      =     14.2 : 1.0\n",
            "                  guests = True                1 : 0      =     14.1 : 1.0\n",
            "                 unaware = True                1 : 0      =     14.1 : 1.0\n",
            "                     ... = True                0 : 1      =     14.0 : 1.0\n",
            "                  tweets = True                0 : 1      =     13.3 : 1.0\n",
            "MultinomialNB accuracy:  78.63333333333333\n",
            "BernoulliNB accuracy:  79.31666666666666\n"
          ],
          "name": "stdout"
        },
        {
          "output_type": "stream",
          "text": [
            "C:\\Users\\Patel\\Anaconda3\\lib\\site-packages\\sklearn\\linear_model\\logistic.py:433: FutureWarning: Default solver will be changed to 'lbfgs' in 0.22. Specify a solver to silence this warning.\n",
            "  FutureWarning)\n"
          ],
          "name": "stderr"
        },
        {
          "output_type": "stream",
          "text": [
            "LogisticRegression accuracy:  80.10000000000001\n",
            "LinearSVC accuracy:  78.71666666666667\n"
          ],
          "name": "stdout"
        },
        {
          "output_type": "stream",
          "text": [
            "C:\\Users\\Patel\\Anaconda3\\lib\\site-packages\\sklearn\\svm\\base.py:196: FutureWarning: The default value of gamma will change from 'auto' to 'scale' in version 0.22 to account better for unscaled features. Set gamma explicitly to 'auto' or 'scale' to avoid this warning.\n",
            "  \"avoid this warning.\", FutureWarning)\n"
          ],
          "name": "stderr"
        },
        {
          "output_type": "stream",
          "text": [
            "NuSVC accuracy:  79.66666666666666\n"
          ],
          "name": "stdout"
        }
      ]
    },
    {
      "cell_type": "code",
      "metadata": {
        "id": "LkZtuzd0ANm2",
        "colab_type": "code",
        "colab": {},
        "outputId": "63e09939-4ed9-49a5-957d-4652ef8dab96"
      },
      "source": [
        "#Voted Classifier from above classifiers\n",
        "from nltk.classify import ClassifierI\n",
        "from statistics import mode\n",
        "\n",
        "class vote_classifier(ClassifierI):\n",
        "    def __init__(self, *classifiers):\n",
        "        self._classifiers = classifiers\n",
        "\n",
        "    def classify(self,features):\n",
        "        votes = []\n",
        "        for classifier in self._classifiers:\n",
        "            vote = classifier.classify(features)\n",
        "            votes.append(vote)\n",
        "        return mode(votes)\n",
        "\n",
        "    def conf(self,features):\n",
        "        votes = []\n",
        "        for classifier in self._classifiers:\n",
        "            vote = classifier.classify(features)\n",
        "            votes.append(vote)\n",
        "        \n",
        "        max_vote = votes.count(mode(votes))\n",
        "        conf = max_vote / len(votes)\n",
        "        return conf\n",
        "            \n",
        "voted_classifier = vote_classifier(NaiveBayesClassifier,MultinomialNB,BernoulliNB,LogisticRegression,SGDClassifier,LinearSVC,NuSVC)\n",
        "#save_voted_classifier_f = open(\"voted_classifier.pickle\",\"rb\")\n",
        "#voted_classifier = pickle.load(save_voted_classifier_f)\n",
        "#save_voted_classifier_f.close()\n",
        "\n",
        "print('voted_classifier accuracy: ', (nltk.classify.accuracy(voted_classifier, testing_set))*100)"
      ],
      "execution_count": 0,
      "outputs": [
        {
          "output_type": "stream",
          "text": [
            "voted_classifier accuracy:  80.43333333333334\n"
          ],
          "name": "stdout"
        }
      ]
    },
    {
      "cell_type": "code",
      "metadata": {
        "id": "6RxUkZspANm8",
        "colab_type": "code",
        "colab": {},
        "outputId": "0096534f-b434-4ed8-8a95-e3a77b340807"
      },
      "source": [
        "avg_conf = 0\n",
        "max_conf = 0\n",
        "min_conf = 100\n",
        "for i in range(len(testing_set)):\n",
        "    avg_conf+=voted_classifier.conf(testing_set[i][0])\n",
        "    if voted_classifier.conf(testing_set[i][0])>max_conf:\n",
        "        max_conf = voted_classifier.conf(testing_set[i][0])\n",
        "    if min_conf>voted_classifier.conf(testing_set[i][0]):\n",
        "        min_conf = voted_classifier.conf(testing_set[i][0])\n",
        "avg_conf = avg_conf/len(testing_set)\n",
        "print(\"Avg. Confidence: \",avg_conf*100, \"\\nMax Confidence: \", max_conf*100, \"Min Confidence: \", min_conf*100)"
      ],
      "execution_count": 0,
      "outputs": [
        {
          "output_type": "stream",
          "text": [
            "Avg. Confidence:  92.82857142857031 \n",
            "Max Confidence:  100.0 Min Confidence:  57.14285714285714\n"
          ],
          "name": "stdout"
        }
      ]
    },
    {
      "cell_type": "code",
      "metadata": {
        "id": "co0BfPlWANnC",
        "colab_type": "code",
        "colab": {}
      },
      "source": [
        "voted_classification = []\n",
        "for x in range(len(testing_set)):\n",
        "    if voted_classifier.classify(testing_set[x][0]) ==1:\n",
        "        voted_classification.append(1)\n",
        "    else:\n",
        "        voted_classification.append(0)"
      ],
      "execution_count": 0,
      "outputs": []
    },
    {
      "cell_type": "code",
      "metadata": {
        "id": "5lJhWsymANnH",
        "colab_type": "code",
        "colab": {},
        "outputId": "205dc91a-c63b-4506-c488-3443bf5f522f"
      },
      "source": [
        "total_sar = sum(x.count(1) for x in testing_set)\n",
        "tp = 0\n",
        "tn = 0\n",
        "fp = 0\n",
        "fn = 0\n",
        "for i in range(len(testing_set)):\n",
        "    if voted_classification[i] == news_data_unsorted['is_sarcastic'][i] == 1:\n",
        "        tp += 1\n",
        "    elif news_data_unsorted['is_sarcastic'][i] == 1 and voted_classification[i] != news_data_unsorted['is_sarcastic'][i]:\n",
        "        fn += 1\n",
        "    elif news_data_unsorted['is_sarcastic'][i] == 0 and voted_classification[i] != news_data_unsorted['is_sarcastic'][i]:\n",
        "        fp += 1\n",
        "    else:\n",
        "        tn +=1\n",
        "#print(tp,tn,fp,fn)\n",
        "precision = tp / (tp+fp)\n",
        "recall = tp / (tp + fn)\n",
        "print(\"Prescision: \",precision*100,\" Recall: \",recall*100)"
      ],
      "execution_count": 0,
      "outputs": [
        {
          "output_type": "stream",
          "text": [
            "Prescision:  79.24  Recall:  75.15174506828528\n"
          ],
          "name": "stdout"
        }
      ]
    },
    {
      "cell_type": "code",
      "metadata": {
        "id": "MBj3WRM8ANnN",
        "colab_type": "code",
        "colab": {}
      },
      "source": [
        ""
      ],
      "execution_count": 0,
      "outputs": []
    }
  ]
}